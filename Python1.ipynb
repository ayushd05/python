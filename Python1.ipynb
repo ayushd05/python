{
  "nbformat": 4,
  "nbformat_minor": 0,
  "metadata": {
    "colab": {
      "provenance": [],
      "authorship_tag": "ABX9TyMbaiAR8/ugWpIpysh59kP+",
      "include_colab_link": true
    },
    "kernelspec": {
      "name": "python3",
      "display_name": "Python 3"
    },
    "language_info": {
      "name": "python"
    }
  },
  "cells": [
    {
      "cell_type": "markdown",
      "metadata": {
        "id": "view-in-github",
        "colab_type": "text"
      },
      "source": [
        "<a href=\"https://colab.research.google.com/github/ayushd05/python/blob/main/Python1.ipynb\" target=\"_parent\"><img src=\"https://colab.research.google.com/assets/colab-badge.svg\" alt=\"Open In Colab\"/></a>"
      ]
    },
    {
      "cell_type": "code",
      "execution_count": null,
      "metadata": {
        "colab": {
          "base_uri": "https://localhost:8080/"
        },
        "id": "rFXOdEjvtM9y",
        "outputId": "dfa2e58b-9f43-4c9d-9b2d-e9d578998bef"
      },
      "outputs": [
        {
          "output_type": "stream",
          "name": "stdout",
          "text": [
            "It's Really Good\n"
          ]
        }
      ],
      "source": [
        "print(\"It's Really Good\")"
      ]
    },
    {
      "cell_type": "code",
      "source": [
        "name=\"Bro\"\n",
        "print(type(name))"
      ],
      "metadata": {
        "colab": {
          "base_uri": "https://localhost:8080/"
        },
        "id": "51-HOG78t2Qb",
        "outputId": "d01f2937-d665-4fcd-bd96-8201f16cdca3"
      },
      "execution_count": null,
      "outputs": [
        {
          "output_type": "stream",
          "name": "stdout",
          "text": [
            "<class 'str'>\n"
          ]
        }
      ]
    },
    {
      "cell_type": "code",
      "source": [
        "he=250.5\n",
        "print(\"Your height is \"+ str(he))\n"
      ],
      "metadata": {
        "colab": {
          "base_uri": "https://localhost:8080/"
        },
        "id": "8M-ZpBznt4EF",
        "outputId": "d8fa8904-40a4-4e30-f743-5fda16622fe3"
      },
      "execution_count": null,
      "outputs": [
        {
          "output_type": "stream",
          "name": "stdout",
          "text": [
            "Your height is 250.5\n"
          ]
        }
      ]
    },
    {
      "cell_type": "code",
      "source": [
        "import math\n",
        "pi=3.14\n",
        "print(round(pi))\n"
      ],
      "metadata": {
        "colab": {
          "base_uri": "https://localhost:8080/"
        },
        "id": "KdbqtEXL0oPr",
        "outputId": "a8733be6-a340-440b-93fa-72f284b00ca6"
      },
      "execution_count": null,
      "outputs": [
        {
          "output_type": "stream",
          "name": "stdout",
          "text": [
            "3\n"
          ]
        }
      ]
    },
    {
      "cell_type": "code",
      "source": [
        "#slicing\n",
        "a= \"Bro_Code\"\n",
        "first_name=a[0:8:2]\n",
        "#[start:stop:step]\n",
        "\n",
        "print(first_name)"
      ],
      "metadata": {
        "id": "l05EcfOdtiRG",
        "colab": {
          "base_uri": "https://localhost:8080/"
        },
        "outputId": "8ec29b55-33d6-4513-8f45-17a61886d8be"
      },
      "execution_count": null,
      "outputs": [
        {
          "output_type": "stream",
          "name": "stdout",
          "text": [
            "BoCd\n"
          ]
        }
      ]
    },
    {
      "cell_type": "code",
      "source": [
        "#if statement\n",
        "age= int(input(\"Enter age: \"))\n",
        "if age == 100:\n",
        "  print(\"you're a century old.\")\n",
        "elif age>=18:\n",
        "  print(\"You're an adult.\")\n",
        "elif age<=0:\n",
        "  print(\"You're not born yet.\")\n",
        "else:\n",
        "  print(\"You're still a hutiya.\")"
      ],
      "metadata": {
        "colab": {
          "base_uri": "https://localhost:8080/"
        },
        "id": "OFr5O_RB4hWh",
        "outputId": "4f2b8939-4146-4037-bf86-113782ba148b"
      },
      "execution_count": null,
      "outputs": [
        {
          "output_type": "stream",
          "name": "stdout",
          "text": [
            "Enter age: -4\n",
            "You're not born yet.\n"
          ]
        }
      ]
    },
    {
      "cell_type": "code",
      "source": [
        "#logical operator\n",
        "temp= int(input(\"Enter temperature: \"))\n",
        "if temp>=10 and temp<=30:\n",
        "  print(\"The temperature is good outside.\")\n",
        "  print(\"Go Outside!!\")\n",
        "elif temp>=30 or temp<=10:\n",
        "  print(\"Don't Go out, it's not a suitable environment outside.\")\n",
        "# not operator is used to flip the statement, from true to false and from false to true\n"
      ],
      "metadata": {
        "colab": {
          "base_uri": "https://localhost:8080/"
        },
        "id": "-QwXbExt69L5",
        "outputId": "405fb0ef-73f0-473d-a743-c0d7530caea0"
      },
      "execution_count": null,
      "outputs": [
        {
          "output_type": "stream",
          "name": "stdout",
          "text": [
            "Enter temperature: 21\n",
            "The temperature is good outside.\n",
            "Go Outside!!\n"
          ]
        }
      ]
    },
    {
      "cell_type": "code",
      "source": [
        "#while loop, exectues unlimited times\n",
        "a= input(\"Enter your Name: \")\n",
        "while len(a)==0:\n",
        "  a=input(\"Enter your name: \")\n",
        "print(\"Hellow \"+ a)"
      ],
      "metadata": {
        "colab": {
          "base_uri": "https://localhost:8080/"
        },
        "id": "ezPWmKbc8uOB",
        "outputId": "adc27c03-f349-4043-c847-30782fc15c2f"
      },
      "execution_count": null,
      "outputs": [
        {
          "output_type": "stream",
          "name": "stdout",
          "text": [
            "Enter your Name: ayush\n",
            "Hellow ayush\n"
          ]
        }
      ]
    },
    {
      "cell_type": "code",
      "source": [
        "#for loop, executes limited amount of times\n",
        "for i in range(10):\n",
        "  print(i)\n",
        "#for i in range(start, end-1)  : start in included and the end is excluded\n",
        "for a in range(50,60):\n",
        "  print(a)\n",
        "for j in \"Ayush\":\n",
        "  print(j)\n",
        "import time\n",
        "for x in range(10,0,-1):\n",
        "  print(x)\n",
        "  time.sleep(0.5)\n",
        "\n"
      ],
      "metadata": {
        "colab": {
          "base_uri": "https://localhost:8080/"
        },
        "id": "T9m4VTAI9b71",
        "outputId": "0e81b681-6e0b-42c1-dd9a-e724b09dd666"
      },
      "execution_count": null,
      "outputs": [
        {
          "output_type": "stream",
          "name": "stdout",
          "text": [
            "0\n",
            "1\n",
            "2\n",
            "3\n",
            "4\n",
            "5\n",
            "6\n",
            "7\n",
            "8\n",
            "9\n",
            "50\n",
            "51\n",
            "52\n",
            "53\n",
            "54\n",
            "55\n",
            "56\n",
            "57\n",
            "58\n",
            "59\n",
            "A\n",
            "y\n",
            "u\n",
            "s\n",
            "h\n",
            "10\n",
            "9\n",
            "8\n",
            "7\n",
            "6\n",
            "5\n",
            "4\n",
            "3\n",
            "2\n",
            "1\n"
          ]
        }
      ]
    },
    {
      "cell_type": "code",
      "source": [
        "#nested loops\n",
        "k=int(input(\"Enter the lenght of side of square: \"))\n",
        "for i in range(k):\n",
        "  for j in range(k):\n",
        "    print(\"k\", end=\"\")\n",
        "  print()\n"
      ],
      "metadata": {
        "colab": {
          "base_uri": "https://localhost:8080/",
          "height": 390
        },
        "id": "r8GDmsMVDZWA",
        "outputId": "eaaceaa0-98b5-488e-ace7-8a66044be49e"
      },
      "execution_count": null,
      "outputs": [
        {
          "output_type": "error",
          "ename": "KeyboardInterrupt",
          "evalue": "ignored",
          "traceback": [
            "\u001b[0;31m---------------------------------------------------------------------------\u001b[0m",
            "\u001b[0;31mKeyboardInterrupt\u001b[0m                         Traceback (most recent call last)",
            "\u001b[0;32m<ipython-input-54-7306ab0411cb>\u001b[0m in \u001b[0;36m<cell line: 2>\u001b[0;34m()\u001b[0m\n\u001b[1;32m      1\u001b[0m \u001b[0;31m#nested loops\u001b[0m\u001b[0;34m\u001b[0m\u001b[0;34m\u001b[0m\u001b[0m\n\u001b[0;32m----> 2\u001b[0;31m \u001b[0mk\u001b[0m\u001b[0;34m=\u001b[0m\u001b[0mint\u001b[0m\u001b[0;34m(\u001b[0m\u001b[0minput\u001b[0m\u001b[0;34m(\u001b[0m\u001b[0;34m\"Enter the lenght of side of square: \"\u001b[0m\u001b[0;34m)\u001b[0m\u001b[0;34m)\u001b[0m\u001b[0;34m\u001b[0m\u001b[0;34m\u001b[0m\u001b[0m\n\u001b[0m\u001b[1;32m      3\u001b[0m \u001b[0;32mfor\u001b[0m \u001b[0mi\u001b[0m \u001b[0;32min\u001b[0m \u001b[0mrange\u001b[0m\u001b[0;34m(\u001b[0m\u001b[0mk\u001b[0m\u001b[0;34m)\u001b[0m\u001b[0;34m:\u001b[0m\u001b[0;34m\u001b[0m\u001b[0;34m\u001b[0m\u001b[0m\n\u001b[1;32m      4\u001b[0m   \u001b[0;32mfor\u001b[0m \u001b[0mj\u001b[0m \u001b[0;32min\u001b[0m \u001b[0mrange\u001b[0m\u001b[0;34m(\u001b[0m\u001b[0mk\u001b[0m\u001b[0;34m)\u001b[0m\u001b[0;34m:\u001b[0m\u001b[0;34m\u001b[0m\u001b[0;34m\u001b[0m\u001b[0m\n\u001b[1;32m      5\u001b[0m     \u001b[0mprint\u001b[0m\u001b[0;34m(\u001b[0m\u001b[0;34m\"k\"\u001b[0m\u001b[0;34m,\u001b[0m \u001b[0mend\u001b[0m\u001b[0;34m=\u001b[0m\u001b[0;34m\"\"\u001b[0m\u001b[0;34m)\u001b[0m\u001b[0;34m\u001b[0m\u001b[0;34m\u001b[0m\u001b[0m\n",
            "\u001b[0;32m/usr/local/lib/python3.10/dist-packages/ipykernel/kernelbase.py\u001b[0m in \u001b[0;36mraw_input\u001b[0;34m(self, prompt)\u001b[0m\n\u001b[1;32m    849\u001b[0m                 \u001b[0;34m\"raw_input was called, but this frontend does not support input requests.\"\u001b[0m\u001b[0;34m\u001b[0m\u001b[0;34m\u001b[0m\u001b[0m\n\u001b[1;32m    850\u001b[0m             )\n\u001b[0;32m--> 851\u001b[0;31m         return self._input_request(str(prompt),\n\u001b[0m\u001b[1;32m    852\u001b[0m             \u001b[0mself\u001b[0m\u001b[0;34m.\u001b[0m\u001b[0m_parent_ident\u001b[0m\u001b[0;34m,\u001b[0m\u001b[0;34m\u001b[0m\u001b[0;34m\u001b[0m\u001b[0m\n\u001b[1;32m    853\u001b[0m             \u001b[0mself\u001b[0m\u001b[0;34m.\u001b[0m\u001b[0m_parent_header\u001b[0m\u001b[0;34m,\u001b[0m\u001b[0;34m\u001b[0m\u001b[0;34m\u001b[0m\u001b[0m\n",
            "\u001b[0;32m/usr/local/lib/python3.10/dist-packages/ipykernel/kernelbase.py\u001b[0m in \u001b[0;36m_input_request\u001b[0;34m(self, prompt, ident, parent, password)\u001b[0m\n\u001b[1;32m    893\u001b[0m             \u001b[0;32mexcept\u001b[0m \u001b[0mKeyboardInterrupt\u001b[0m\u001b[0;34m:\u001b[0m\u001b[0;34m\u001b[0m\u001b[0;34m\u001b[0m\u001b[0m\n\u001b[1;32m    894\u001b[0m                 \u001b[0;31m# re-raise KeyboardInterrupt, to truncate traceback\u001b[0m\u001b[0;34m\u001b[0m\u001b[0;34m\u001b[0m\u001b[0m\n\u001b[0;32m--> 895\u001b[0;31m                 \u001b[0;32mraise\u001b[0m \u001b[0mKeyboardInterrupt\u001b[0m\u001b[0;34m(\u001b[0m\u001b[0;34m\"Interrupted by user\"\u001b[0m\u001b[0;34m)\u001b[0m \u001b[0;32mfrom\u001b[0m \u001b[0;32mNone\u001b[0m\u001b[0;34m\u001b[0m\u001b[0;34m\u001b[0m\u001b[0m\n\u001b[0m\u001b[1;32m    896\u001b[0m             \u001b[0;32mexcept\u001b[0m \u001b[0mException\u001b[0m \u001b[0;32mas\u001b[0m \u001b[0me\u001b[0m\u001b[0;34m:\u001b[0m\u001b[0;34m\u001b[0m\u001b[0;34m\u001b[0m\u001b[0m\n\u001b[1;32m    897\u001b[0m                 \u001b[0mself\u001b[0m\u001b[0;34m.\u001b[0m\u001b[0mlog\u001b[0m\u001b[0;34m.\u001b[0m\u001b[0mwarning\u001b[0m\u001b[0;34m(\u001b[0m\u001b[0;34m\"Invalid Message:\"\u001b[0m\u001b[0;34m,\u001b[0m \u001b[0mexc_info\u001b[0m\u001b[0;34m=\u001b[0m\u001b[0;32mTrue\u001b[0m\u001b[0;34m)\u001b[0m\u001b[0;34m\u001b[0m\u001b[0;34m\u001b[0m\u001b[0m\n",
            "\u001b[0;31mKeyboardInterrupt\u001b[0m: Interrupted by user"
          ]
        }
      ]
    },
    {
      "cell_type": "code",
      "source": [
        "#break=     Used to terminate the loop entirely\n",
        "#continue= skips to the next interation of the loop\n",
        "#pass=      Does acts as a placeholder\n",
        "\n",
        "\n",
        "\n",
        "num=\"123-213-123\"\n",
        "for i in num:\n",
        "  if i==\"-\":\n",
        "   continue\n",
        "  print(i, end=\"\")"
      ],
      "metadata": {
        "colab": {
          "base_uri": "https://localhost:8080/"
        },
        "id": "hAF-16B5H2OQ",
        "outputId": "2b51b9e9-115e-4916-bd09-ef7e5415bcc8"
      },
      "execution_count": null,
      "outputs": [
        {
          "output_type": "stream",
          "name": "stdout",
          "text": [
            "123213123"
          ]
        }
      ]
    },
    {
      "cell_type": "code",
      "source": [
        "#lists= [ ] use square bracket, can be updated afterwards means they are changeable\n",
        "#tuples=  collection which is unchangeable and ordered, used to group related data, () use paranthesis\n",
        "#2d lists= list of list\n",
        "#sets= a set is that which is unordered, unindexed. No duplicate values. {} use curly braket.\n",
        "#dictionary = they are changeable, unorderd collection of unique key: vALUE PAIRS\n",
        "#fast because they are hashing, allow us to acess to value quickly\n",
        "#{'key' : 'value', 'key2' : 'value2'}\n",
        "\n",
        "\n",
        "\n",
        "capital={'USA' : 'Washington', 'India' : 'Delhi', 'London': 'New-York'}"
      ],
      "metadata": {
        "id": "ptjHrWEZH3nS"
      },
      "execution_count": null,
      "outputs": []
    },
    {
      "cell_type": "code",
      "source": [
        "for key,value in capital.items():\n",
        "  print(key, value)"
      ],
      "metadata": {
        "colab": {
          "base_uri": "https://localhost:8080/"
        },
        "id": "T4A8FMjxjsnd",
        "outputId": "7d8e70b9-819a-4940-b88f-fb3f23705c19"
      },
      "execution_count": null,
      "outputs": [
        {
          "output_type": "stream",
          "name": "stdout",
          "text": [
            "USA Washington\n",
            "India Delhi\n",
            "London New-York\n"
          ]
        }
      ]
    },
    {
      "cell_type": "code",
      "source": [
        "capital.update({'Zinda' : 'Zayn'})\n"
      ],
      "metadata": {
        "id": "ysMoFbcRk7dm"
      },
      "execution_count": null,
      "outputs": []
    },
    {
      "cell_type": "code",
      "source": [
        "for key,value in capital.items():\n",
        "  print(key,value)"
      ],
      "metadata": {
        "colab": {
          "base_uri": "https://localhost:8080/"
        },
        "id": "i8rjWQ0tljZU",
        "outputId": "45ade156-3e9d-40e8-ec97-49b719f76fee"
      },
      "execution_count": null,
      "outputs": [
        {
          "output_type": "stream",
          "name": "stdout",
          "text": [
            "USA Washington\n",
            "India Delhi\n",
            "London New-York\n",
            "Akash Randiputram\n",
            "Zinda Zayn\n"
          ]
        }
      ]
    },
    {
      "cell_type": "code",
      "source": [
        "#Index Operator []= give acess to sequence element (str,list, tuples)\n",
        "name =\"team mortal\"\n",
        "#if(name[0].islower()):\n",
        " # name =name.capitalize()\n",
        "\n",
        "\n",
        " #to capitalize letter using index operator\n",
        "first_name = name[0:4].upper()\n",
        "print(first_name)\n",
        "last_name= name[5:11].upper()\n",
        "print(last_name)"
      ],
      "metadata": {
        "colab": {
          "base_uri": "https://localhost:8080/"
        },
        "id": "5bBWt1_Om6UH",
        "outputId": "7f882051-f157-48c9-d6ef-ddf55096cb52"
      },
      "execution_count": null,
      "outputs": [
        {
          "output_type": "stream",
          "name": "stdout",
          "text": [
            "TEAM\n",
            "MORTAL\n"
          ]
        }
      ]
    },
    {
      "cell_type": "markdown",
      "source": [
        "FUNTIONS: a block of code which is executed only when it is called.\n"
      ],
      "metadata": {
        "id": "3sh-rw1Rp2y_"
      }
    },
    {
      "cell_type": "code",
      "source": [
        "def hellow():\n",
        "  print(\"I'm cool\")\n",
        "\n",
        "hellow()"
      ],
      "metadata": {
        "colab": {
          "base_uri": "https://localhost:8080/"
        },
        "id": "4oV7sesFrgzl",
        "outputId": "73896d1d-8799-43ff-cfa3-3bf81c997c76"
      },
      "execution_count": null,
      "outputs": [
        {
          "output_type": "stream",
          "name": "stdout",
          "text": [
            "I'm cool\n"
          ]
        }
      ]
    },
    {
      "cell_type": "code",
      "source": [
        "#adding parameters\n",
        "def hi(name,age):\n",
        "  print(\"I'm cool \"+ name +\" \"+ str(age))\n",
        "  print(\"this is the best\")\n",
        "\n",
        "hi(\"Ayush\", 21)"
      ],
      "metadata": {
        "colab": {
          "base_uri": "https://localhost:8080/"
        },
        "id": "A7fU5KpTsmpG",
        "outputId": "c9132146-4cb6-4e9e-f117-687f57c42f62"
      },
      "execution_count": null,
      "outputs": [
        {
          "output_type": "stream",
          "name": "stdout",
          "text": [
            "I'm cool Ayush 21\n",
            "this is the best\n"
          ]
        }
      ]
    },
    {
      "cell_type": "code",
      "source": [
        "#return statement = FUntions aend values/objects back to the caller. These objects/values are known as fuction return values\n",
        "def multiple(v1,v2):\n",
        "  m= v1*v2\n",
        "  return m\n",
        "print(multiple(3,4))\n"
      ],
      "metadata": {
        "colab": {
          "base_uri": "https://localhost:8080/"
        },
        "id": "PVRspeRCuHfb",
        "outputId": "d8b05df8-fdf0-47d4-b68c-ca514bca3b43"
      },
      "execution_count": null,
      "outputs": [
        {
          "output_type": "stream",
          "name": "stdout",
          "text": [
            "12\n"
          ]
        }
      ]
    },
    {
      "cell_type": "code",
      "source": [
        "#keyword arguments= arguments preceded by an identifier when we pass them to a fuction. The order of the arguments dosen't matter, unlike positional arguments. Python knoes the names of the arguments that our funtion receives\n",
        "#hellow(keyword(argument)= Parameter)\n",
        "def hellow(first, middle, last):\n",
        "  print(\"Hellow \" + first +\" \" +middle+\" \"+ last)\n",
        "\n",
        "hellow(last=\"Mortal\", first=\"Team \", middle=\"death \" )\n"
      ],
      "metadata": {
        "colab": {
          "base_uri": "https://localhost:8080/"
        },
        "id": "mPnsJhqrvaBN",
        "outputId": "0ea23c4b-f844-4dac-a575-fd6458d4297d"
      },
      "execution_count": null,
      "outputs": [
        {
          "output_type": "stream",
          "name": "stdout",
          "text": [
            "Hellow Team  death  Mortal\n"
          ]
        }
      ]
    },
    {
      "cell_type": "code",
      "source": [
        "#nested funntions calls= funtion calls inside another funtion calls, innermost funtions calls are resloved first, returned value is used as a argumentfor the next outer funtion"
      ],
      "metadata": {
        "id": "NsBQUvOAxkj9"
      },
      "execution_count": null,
      "outputs": []
    },
    {
      "cell_type": "code",
      "source": [
        "#variable scope= the region that a variable is recognised, A variable is only available from inside the region it is created, a global and locally scoped versions of a variable can be created\n"
      ],
      "metadata": {
        "id": "vc8hwBwe3oeT"
      },
      "execution_count": null,
      "outputs": []
    },
    {
      "cell_type": "code",
      "source": [
        "#args= parameter that will pack all the arguments into a tuple useful so that a funtion that a funtion can accept a varying amount of arguments\n",
        "def add(*args):\n",
        "  sum = 0\n",
        "  for i in args:\n",
        "    sum += i\n",
        "  return sum\n",
        "\n",
        "print(add(2,4,9,10,5))"
      ],
      "metadata": {
        "colab": {
          "base_uri": "https://localhost:8080/"
        },
        "id": "fVqYhycxDWuK",
        "outputId": "ac9da9ce-9b62-4987-977e-3fb143c89453"
      },
      "execution_count": null,
      "outputs": [
        {
          "output_type": "stream",
          "name": "stdout",
          "text": [
            "30\n"
          ]
        }
      ]
    }
  ]
}