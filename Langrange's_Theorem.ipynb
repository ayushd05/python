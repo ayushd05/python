{
  "nbformat": 4,
  "nbformat_minor": 0,
  "metadata": {
    "colab": {
      "provenance": [],
      "authorship_tag": "ABX9TyOOBjCquFOyOdc6OCFilfbr",
      "include_colab_link": true
    },
    "kernelspec": {
      "name": "python3",
      "display_name": "Python 3"
    },
    "language_info": {
      "name": "python"
    }
  },
  "cells": [
    {
      "cell_type": "markdown",
      "metadata": {
        "id": "view-in-github",
        "colab_type": "text"
      },
      "source": [
        "<a href=\"https://colab.research.google.com/github/ayushd05/python/blob/main/Langrange's_Theorem.ipynb\" target=\"_parent\"><img src=\"https://colab.research.google.com/assets/colab-badge.svg\" alt=\"Open In Colab\"/></a>"
      ]
    },
    {
      "cell_type": "code",
      "execution_count": 9,
      "metadata": {
        "colab": {
          "base_uri": "https://localhost:8080/"
        },
        "id": "gL_L-NTWwO_N",
        "outputId": "1ae86641-ac3a-4dcb-80a2-1192494e1b84"
      },
      "outputs": [
        {
          "output_type": "stream",
          "name": "stdout",
          "text": [
            "[[ 2 23]\n",
            " [23 12]\n",
            " [32 43]]\n"
          ]
        }
      ],
      "source": [
        "import numpy as np\n",
        "arr = np.array([2,23,23,12,32,43])\n",
        "arr= array.reshape(3,2)\n",
        "print(arr)"
      ]
    },
    {
      "cell_type": "code",
      "source": [
        "#Langrange's Theorem\n",
        "import numpy as np\n",
        "n = int(input('Enter number of Data Points: '))\n",
        "x= np.zeros(n)\n",
        "y= np.zeros(n)\n",
        "for i in range(n):\n",
        "  x[i] = float(input(f'Enter x{str(i)}: '))\n",
        "  y[i] = float(input(f'Enter y{str(i)}: '))\n",
        "\n",
        "xp= int(input(\"Enter the Interpolating Value: \"))\n",
        "yp=0\n",
        "\n",
        "for i in range(n):\n",
        "  p=1\n",
        "  for j in range(n):\n",
        "   if (i!=j):\n",
        "    p= p*(xp-x[j])/(x[i]-x[j])\n",
        "\n",
        "  yp= yp + p*y[i]\n",
        "print('Interpolated value at %.3f is %.3f'% (xp,yp))"
      ],
      "metadata": {
        "id": "u5oJZ6P225vm",
        "outputId": "9f485ee0-8f6e-474b-dba7-6a467f33ca04",
        "colab": {
          "base_uri": "https://localhost:8080/"
        }
      },
      "execution_count": 22,
      "outputs": [
        {
          "output_type": "stream",
          "name": "stdout",
          "text": [
            "Enter number of Data Points: 4\n",
            "Enter x0: -2\n",
            "Enter y0: 5\n",
            "Enter x1: 1\n",
            "Enter y1: 7\n",
            "Enter x2: 3\n",
            "Enter y2: 11\n",
            "Enter x3: 7\n",
            "Enter y3: 34\n",
            "Enter the Interpolating Value: 0\n",
            "Interpolated value at 0.000 is 6.039\n"
          ]
        }
      ]
    },
    {
      "cell_type": "code",
      "source": [],
      "metadata": {
        "id": "zp2P9CoG5T81"
      },
      "execution_count": null,
      "outputs": []
    }
  ]
}