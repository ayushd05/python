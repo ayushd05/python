{
  "nbformat": 4,
  "nbformat_minor": 0,
  "metadata": {
    "colab": {
      "provenance": [],
      "authorship_tag": "ABX9TyNtEdTzX5F8z/b3nO3XPZGv",
      "include_colab_link": true
    },
    "kernelspec": {
      "name": "python3",
      "display_name": "Python 3"
    },
    "language_info": {
      "name": "python"
    }
  },
  "cells": [
    {
      "cell_type": "markdown",
      "metadata": {
        "id": "view-in-github",
        "colab_type": "text"
      },
      "source": [
        "<a href=\"https://colab.research.google.com/github/ayushd05/python/blob/main/PANDAS_library.ipynb\" target=\"_parent\"><img src=\"https://colab.research.google.com/assets/colab-badge.svg\" alt=\"Open In Colab\"/></a>"
      ]
    },
    {
      "cell_type": "code",
      "execution_count": 1,
      "metadata": {
        "id": "i8qFhD1UN_Fo"
      },
      "outputs": [],
      "source": [
        "import pandas as pd\n",
        "import numpy as np"
      ]
    },
    {
      "cell_type": "code",
      "source": [
        "hero = pd.Series([21,32,2312,123,56,8676])"
      ],
      "metadata": {
        "id": "UdLR1e2NOPqx"
      },
      "execution_count": 2,
      "outputs": []
    },
    {
      "cell_type": "code",
      "source": [
        "hero\n"
      ],
      "metadata": {
        "colab": {
          "base_uri": "https://localhost:8080/"
        },
        "id": "ybuz46DmOiWN",
        "outputId": "eadf8a6f-99b6-4397-bcde-db5c0df2f67b"
      },
      "execution_count": 3,
      "outputs": [
        {
          "output_type": "execute_result",
          "data": {
            "text/plain": [
              "0      21\n",
              "1      32\n",
              "2    2312\n",
              "3     123\n",
              "4      56\n",
              "5    8676\n",
              "dtype: int64"
            ]
          },
          "metadata": {},
          "execution_count": 3
        }
      ]
    },
    {
      "cell_type": "code",
      "source": [
        "hero.name = \"Some name related to your imformation\""
      ],
      "metadata": {
        "id": "FB0Wmh7zOmgo"
      },
      "execution_count": 4,
      "outputs": []
    },
    {
      "cell_type": "code",
      "source": [
        "hero"
      ],
      "metadata": {
        "colab": {
          "base_uri": "https://localhost:8080/"
        },
        "id": "mXnMB-T0OxD4",
        "outputId": "bc0d7fe5-0b2e-450a-99ab-497db12b4292"
      },
      "execution_count": 5,
      "outputs": [
        {
          "output_type": "execute_result",
          "data": {
            "text/plain": [
              "0      21\n",
              "1      32\n",
              "2    2312\n",
              "3     123\n",
              "4      56\n",
              "5    8676\n",
              "Name: Some name related to your imformation, dtype: int64"
            ]
          },
          "metadata": {},
          "execution_count": 5
        }
      ]
    },
    {
      "cell_type": "code",
      "source": [
        "hero.dtype"
      ],
      "metadata": {
        "colab": {
          "base_uri": "https://localhost:8080/"
        },
        "id": "e_eEaStMOyoH",
        "outputId": "6177d655-8142-4cd6-eea0-a193f86f0778"
      },
      "execution_count": 6,
      "outputs": [
        {
          "output_type": "execute_result",
          "data": {
            "text/plain": [
              "dtype('int64')"
            ]
          },
          "metadata": {},
          "execution_count": 6
        }
      ]
    },
    {
      "cell_type": "code",
      "source": [
        "hero.values"
      ],
      "metadata": {
        "colab": {
          "base_uri": "https://localhost:8080/"
        },
        "id": "hADRFFkDO0Wo",
        "outputId": "2dee7088-a08e-42c9-99d2-e42174036b13"
      },
      "execution_count": 7,
      "outputs": [
        {
          "output_type": "execute_result",
          "data": {
            "text/plain": [
              "array([  21,   32, 2312,  123,   56, 8676])"
            ]
          },
          "metadata": {},
          "execution_count": 7
        }
      ]
    },
    {
      "cell_type": "code",
      "source": [
        "type(hero.values)"
      ],
      "metadata": {
        "colab": {
          "base_uri": "https://localhost:8080/"
        },
        "id": "EOwfPdesPEfI",
        "outputId": "2c2c0b11-4b8a-4156-9134-3a6ce0461680"
      },
      "execution_count": 8,
      "outputs": [
        {
          "output_type": "execute_result",
          "data": {
            "text/plain": [
              "numpy.ndarray"
            ]
          },
          "metadata": {},
          "execution_count": 8
        }
      ]
    },
    {
      "cell_type": "code",
      "source": [
        "#to select a particular element in a array\n",
        "hero[1]"
      ],
      "metadata": {
        "colab": {
          "base_uri": "https://localhost:8080/"
        },
        "id": "mpXnMm5yPQuk",
        "outputId": "3b2881cb-3f5b-4979-e727-1761b67c5c99"
      },
      "execution_count": 9,
      "outputs": [
        {
          "output_type": "execute_result",
          "data": {
            "text/plain": [
              "32"
            ]
          },
          "metadata": {},
          "execution_count": 9
        }
      ]
    },
    {
      "cell_type": "code",
      "source": [
        "hero.index"
      ],
      "metadata": {
        "colab": {
          "base_uri": "https://localhost:8080/"
        },
        "id": "_Jn5Bt6cPeJX",
        "outputId": "25731fee-94b0-45eb-b243-1d460077d63c"
      },
      "execution_count": 10,
      "outputs": [
        {
          "output_type": "execute_result",
          "data": {
            "text/plain": [
              "RangeIndex(start=0, stop=6, step=1)"
            ]
          },
          "metadata": {},
          "execution_count": 10
        }
      ]
    },
    {
      "cell_type": "code",
      "source": [
        "hero.index= [\n",
        "    'a',\n",
        "    'b',\n",
        "    'c',\n",
        "    'd',\n",
        "    'e',\n",
        "    'f'\n",
        "]"
      ],
      "metadata": {
        "id": "Q70MIKg_Pgl7"
      },
      "execution_count": 11,
      "outputs": []
    },
    {
      "cell_type": "code",
      "source": [
        "hero"
      ],
      "metadata": {
        "colab": {
          "base_uri": "https://localhost:8080/"
        },
        "id": "AvKyz3W-P4Zv",
        "outputId": "1f1f8316-8b3a-4411-cf08-ea2bd96d850a"
      },
      "execution_count": 12,
      "outputs": [
        {
          "output_type": "execute_result",
          "data": {
            "text/plain": [
              "a      21\n",
              "b      32\n",
              "c    2312\n",
              "d     123\n",
              "e      56\n",
              "f    8676\n",
              "Name: Some name related to your imformation, dtype: int64"
            ]
          },
          "metadata": {},
          "execution_count": 12
        }
      ]
    },
    {
      "cell_type": "code",
      "source": [
        "#number postions can also be used, with the i.lock attribute\n",
        "hero.iloc[1]"
      ],
      "metadata": {
        "colab": {
          "base_uri": "https://localhost:8080/"
        },
        "id": "KBohd6fzQ00a",
        "outputId": "e29ded7d-cf99-4553-9924-b69b391b7f13"
      },
      "execution_count": 13,
      "outputs": [
        {
          "output_type": "execute_result",
          "data": {
            "text/plain": [
              "32"
            ]
          },
          "metadata": {},
          "execution_count": 13
        }
      ]
    },
    {
      "cell_type": "code",
      "source": [
        "#supports multiple indexes"
      ],
      "metadata": {
        "id": "SGVroJZrRNUc"
      },
      "execution_count": 14,
      "outputs": []
    },
    {
      "cell_type": "code",
      "source": [
        "#the same boolean array techniques we saw applied to numpy arrays can be used for Pandas Series:\n",
        "hero"
      ],
      "metadata": {
        "id": "50vCzuKARSXa",
        "colab": {
          "base_uri": "https://localhost:8080/"
        },
        "outputId": "f979ab6b-ea5a-463f-b9c5-8edef08dcc51"
      },
      "execution_count": 15,
      "outputs": [
        {
          "output_type": "execute_result",
          "data": {
            "text/plain": [
              "a      21\n",
              "b      32\n",
              "c    2312\n",
              "d     123\n",
              "e      56\n",
              "f    8676\n",
              "Name: Some name related to your imformation, dtype: int64"
            ]
          },
          "metadata": {},
          "execution_count": 15
        }
      ]
    },
    {
      "cell_type": "code",
      "source": [
        "hero.mean()"
      ],
      "metadata": {
        "colab": {
          "base_uri": "https://localhost:8080/"
        },
        "id": "blldpMfLOA9i",
        "outputId": "74cb42b6-7979-4526-87f3-11ad16f58a0d"
      },
      "execution_count": 16,
      "outputs": [
        {
          "output_type": "execute_result",
          "data": {
            "text/plain": [
              "1870.0"
            ]
          },
          "metadata": {},
          "execution_count": 16
        }
      ]
    },
    {
      "cell_type": "code",
      "source": [
        "hero.std()"
      ],
      "metadata": {
        "colab": {
          "base_uri": "https://localhost:8080/"
        },
        "id": "olJkyUvsODdj",
        "outputId": "5eee4897-323c-41c6-d603-262187ca0214"
      },
      "execution_count": 17,
      "outputs": [
        {
          "output_type": "execute_result",
          "data": {
            "text/plain": [
              "3454.175733803942"
            ]
          },
          "metadata": {},
          "execution_count": 17
        }
      ]
    },
    {
      "cell_type": "code",
      "source": [
        "hero > 100"
      ],
      "metadata": {
        "colab": {
          "base_uri": "https://localhost:8080/"
        },
        "id": "SG4AbDBDOmCI",
        "outputId": "b3b064ba-cafb-4a91-9c86-adf3fb10f918"
      },
      "execution_count": 18,
      "outputs": [
        {
          "output_type": "execute_result",
          "data": {
            "text/plain": [
              "a    False\n",
              "b    False\n",
              "c     True\n",
              "d     True\n",
              "e    False\n",
              "f     True\n",
              "Name: Some name related to your imformation, dtype: bool"
            ]
          },
          "metadata": {},
          "execution_count": 18
        }
      ]
    },
    {
      "cell_type": "code",
      "source": [
        "hero[hero>100]"
      ],
      "metadata": {
        "colab": {
          "base_uri": "https://localhost:8080/"
        },
        "id": "3b8JYMFNOpoO",
        "outputId": "206d3f25-6c30-4547-83bf-21d19ebba1a4"
      },
      "execution_count": 19,
      "outputs": [
        {
          "output_type": "execute_result",
          "data": {
            "text/plain": [
              "c    2312\n",
              "d     123\n",
              "f    8676\n",
              "Name: Some name related to your imformation, dtype: int64"
            ]
          },
          "metadata": {},
          "execution_count": 19
        }
      ]
    },
    {
      "cell_type": "code",
      "source": [
        "#assignment works both in boolean indexing and also direct indexing\n",
        "#to drop any row or any column use name.drop('Index')\n"
      ],
      "metadata": {
        "id": "sgFUchfsOtlq"
      },
      "execution_count": 20,
      "outputs": []
    },
    {
      "cell_type": "code",
      "source": [
        "#df.drop()\n",
        "#Modifying DataFrames\n",
        "\n",
        "# to rename a column simply type\n",
        "#we type df.rename()\n"
      ],
      "metadata": {
        "id": "-kIN4h8KV1FX"
      },
      "execution_count": 21,
      "outputs": []
    }
  ]
}