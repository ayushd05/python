{
  "nbformat": 4,
  "nbformat_minor": 0,
  "metadata": {
    "colab": {
      "provenance": [],
      "authorship_tag": "ABX9TyNxKan8aOw/OeKskvqB59Oe",
      "include_colab_link": true
    },
    "kernelspec": {
      "name": "python3",
      "display_name": "Python 3"
    },
    "language_info": {
      "name": "python"
    }
  },
  "cells": [
    {
      "cell_type": "markdown",
      "metadata": {
        "id": "view-in-github",
        "colab_type": "text"
      },
      "source": [
        "<a href=\"https://colab.research.google.com/github/ayushd05/python/blob/main/Python_2.ipynb\" target=\"_parent\"><img src=\"https://colab.research.google.com/assets/colab-badge.svg\" alt=\"Open In Colab\"/></a>"
      ]
    },
    {
      "cell_type": "code",
      "execution_count": null,
      "metadata": {
        "colab": {
          "base_uri": "https://localhost:8080/"
        },
        "id": "UhdYziKfO1gI",
        "outputId": "c39c518c-fb8d-43ed-96f6-f33f5e2f6c98"
      },
      "outputs": [
        {
          "output_type": "stream",
          "name": "stdout",
          "text": [
            "Hellow, WOrld\n"
          ]
        }
      ],
      "source": [
        "print(\"Hellow, WOrld\")"
      ]
    },
    {
      "cell_type": "code",
      "source": [
        "def calculatePerimeter(dimension1,dimension2,dimension3):\n",
        "  perimeter=dimension1+dimension2+dimension3\n",
        "  return perimeter"
      ],
      "metadata": {
        "id": "6ONgMv1TRdHv"
      },
      "execution_count": null,
      "outputs": []
    },
    {
      "cell_type": "code",
      "source": [
        "perimeter1 = calculatePerimeter(6, 4, 3)\n",
        "perimeter2 = calculatePerimeter(10, 3, 11)\n",
        "\n",
        "print(\"The perimeter of my first triangle is\", perimeter1, \"and that of my second is\", perimeter2)"
      ],
      "metadata": {
        "colab": {
          "base_uri": "https://localhost:8080/"
        },
        "id": "2JbiSRtXKDPK",
        "outputId": "c5552901-5153-454f-cbf1-56500da8cf68"
      },
      "execution_count": null,
      "outputs": [
        {
          "output_type": "stream",
          "name": "stdout",
          "text": [
            "The perimeter of my first triangle is 13 and that of my second is 24\n"
          ]
        }
      ]
    },
    {
      "cell_type": "code",
      "source": [
        "help(len)\n",
        "t=\"AYUSH\"\n",
        "print(len(t))"
      ],
      "metadata": {
        "colab": {
          "base_uri": "https://localhost:8080/"
        },
        "id": "U334hpKSLJLx",
        "outputId": "82a0c802-8349-44b9-842e-cc6972f69068"
      },
      "execution_count": null,
      "outputs": [
        {
          "output_type": "stream",
          "name": "stdout",
          "text": [
            "Help on built-in function len in module builtins:\n",
            "\n",
            "len(obj, /)\n",
            "    Return the number of items in a container.\n",
            "\n",
            "5\n"
          ]
        }
      ]
    },
    {
      "cell_type": "code",
      "source": [
        "x = 10\n",
        "x += 12\n",
        "y = int(x/4)\n",
        "x = x + y\n",
        "print(x)\n",
        "print(y)"
      ],
      "metadata": {
        "colab": {
          "base_uri": "https://localhost:8080/"
        },
        "id": "FZLih18QO0-1",
        "outputId": "4d7ad5bc-091e-404c-9223-2063f638ff17"
      },
      "execution_count": null,
      "outputs": [
        {
          "output_type": "stream",
          "name": "stdout",
          "text": [
            "27\n",
            "5\n"
          ]
        }
      ]
    },
    {
      "cell_type": "code",
      "source": [
        "a=4\n",
        "def polynomial(a,b,c,x):\n",
        "  return a*x**2 +b*x +c\n",
        "\n",
        "b=a\n",
        "b *=a\n",
        "c=1\n",
        "result= polynomial(a,b,c,0)\n",
        "a+=3\n",
        "a=0\n",
        "print(result, a,b,c)"
      ],
      "metadata": {
        "colab": {
          "base_uri": "https://localhost:8080/"
        },
        "id": "uwNFUdbNQUXW",
        "outputId": "25f196c6-55b4-4ef7-a624-f62aae730ac4"
      },
      "execution_count": null,
      "outputs": [
        {
          "output_type": "stream",
          "name": "stdout",
          "text": [
            "1 0 16 1\n"
          ]
        }
      ]
    },
    {
      "cell_type": "code",
      "source": [
        "customerName = ['Marion Weaver', 'Alberto Mendoza', 'Katharine Tyler', 'Isaac Steele']\n",
        "customerName[0] = 'Marianne Weaver'\n",
        "# print the last item\n",
        "print(customerName[-1])\n",
        "\n",
        "# access the second item to the 3rd\n",
        "print(customerName[1:3], customerName[0] )\n",
        "\n",
        "# access all items from the beginning to the second\n",
        "print(customerName[:2])"
      ],
      "metadata": {
        "colab": {
          "base_uri": "https://localhost:8080/"
        },
        "id": "WRXyVTMJ5qj-",
        "outputId": "7407a821-ff63-4a7d-a872-0ccde0e65428"
      },
      "execution_count": null,
      "outputs": [
        {
          "output_type": "stream",
          "name": "stdout",
          "text": [
            "Isaac Steele\n",
            "['Alberto Mendoza', 'Katharine Tyler'] Marianne Weaver\n",
            "['Marianne Weaver', 'Alberto Mendoza']\n"
          ]
        }
      ]
    },
    {
      "cell_type": "code",
      "source": [
        "strangeList = [4, 10.2, 'Marion Weaver', ['another list', 1]]\n",
        "\n",
        "# print the 4th item of the list\n",
        "print(strangeList[3])\n",
        "strangeList.append('New Customer')\n",
        "print(strangeList)\n"
      ],
      "metadata": {
        "colab": {
          "base_uri": "https://localhost:8080/"
        },
        "id": "ElzzqALk6lWx",
        "outputId": "0efda291-f09d-410f-81ac-ed40226910ac"
      },
      "execution_count": null,
      "outputs": [
        {
          "output_type": "stream",
          "name": "stdout",
          "text": [
            "['another list', 1]\n",
            "[4, 10.2, 'Marion Weaver', ['another list', 1], 'New Customer']\n"
          ]
        }
      ]
    },
    {
      "cell_type": "code",
      "source": [
        "username = int(input(\"Enter Number: \"))"
      ],
      "metadata": {
        "colab": {
          "base_uri": "https://localhost:8080/"
        },
        "id": "lIEBseIMD2sP",
        "outputId": "f820da8c-7c6a-4678-d87a-da2731ae982b"
      },
      "execution_count": null,
      "outputs": [
        {
          "name": "stdout",
          "output_type": "stream",
          "text": [
            "Enter Number: 5\n"
          ]
        }
      ]
    },
    {
      "cell_type": "code",
      "source": [
        "name= input(\"What is your Name: \")\n",
        "if len(name)>0:\n",
        "  print('Hello', name, '!')\n",
        "else:\n",
        "  print('Hellow World!')"
      ],
      "metadata": {
        "colab": {
          "base_uri": "https://localhost:8080/"
        },
        "id": "a7M1m8ZXEoZj",
        "outputId": "5573ba61-098d-40a5-c559-4dd00da67dcb"
      },
      "execution_count": null,
      "outputs": [
        {
          "output_type": "stream",
          "name": "stdout",
          "text": [
            "What is your Name: Ayush\n",
            "Hello Ayush !\n"
          ]
        }
      ]
    },
    {
      "cell_type": "code",
      "source": [
        "myString = ('ram', 'shyam', 4,6,8)\n",
        "\n",
        "for elt in myString:\n",
        "    print(elt)\n"
      ],
      "metadata": {
        "colab": {
          "base_uri": "https://localhost:8080/"
        },
        "id": "PaIB0ygBKeUc",
        "outputId": "07edb20a-00fc-48bc-fa34-5aa17f21c953"
      },
      "execution_count": null,
      "outputs": [
        {
          "output_type": "stream",
          "name": "stdout",
          "text": [
            "ram\n",
            "shyam\n",
            "4\n",
            "6\n",
            "8\n"
          ]
        }
      ]
    },
    {
      "cell_type": "code",
      "source": [
        "for i in range(10):\n",
        "    # statements executed at each iteration\n",
        "    print(i)\n",
        "    if (i == 2) or (i == 5):\n",
        "        print(\"Special case\")\n",
        "        continue\n",
        "    # statements not executed if i == 2 or 5\n",
        "    print(\"i != 2 & i != 5\")"
      ],
      "metadata": {
        "colab": {
          "base_uri": "https://localhost:8080/"
        },
        "id": "Zd3wkqHiVoEF",
        "outputId": "fd09c535-e408-491b-fb42-7b43ca23bbbd"
      },
      "execution_count": null,
      "outputs": [
        {
          "output_type": "stream",
          "name": "stdout",
          "text": [
            "0\n",
            "i != 2 & i != 5\n",
            "1\n",
            "i != 2 & i != 5\n",
            "2\n",
            "Special case\n",
            "3\n",
            "i != 2 & i != 5\n",
            "4\n",
            "i != 2 & i != 5\n",
            "5\n",
            "Special case\n",
            "6\n",
            "i != 2 & i != 5\n",
            "7\n",
            "i != 2 & i != 5\n",
            "8\n",
            "i != 2 & i != 5\n",
            "9\n",
            "i != 2 & i != 5\n"
          ]
        }
      ]
    },
    {
      "cell_type": "code",
      "source": [
        "if 'bar' in {'foo': 1, 'bar': 2, 'baz': 3}:\n",
        "   print(1)\n",
        "   print(2)\n",
        "   if 'a' in 'qux':\n",
        "      print(3)\n",
        "print(4)"
      ],
      "metadata": {
        "colab": {
          "base_uri": "https://localhost:8080/"
        },
        "id": "f_LRpHuqYdwv",
        "outputId": "fea61e3e-ee0b-486e-ede2-bdf5d87c6dd9"
      },
      "execution_count": null,
      "outputs": [
        {
          "output_type": "stream",
          "name": "stdout",
          "text": [
            "1\n",
            "2\n",
            "4\n"
          ]
        }
      ]
    },
    {
      "cell_type": "code",
      "source": [
        "d = {'a': 0, 'b': 1, 'c': 0}\n",
        "\n",
        "if d['a'] > 0:\n",
        "   print('yeah!')\n",
        "elif d['b'] > 0:\n",
        "   print('yeah!')\n",
        "elif d['c'] > 0:\n",
        "   print('ok')\n",
        "elif d['d'] > 0:\n",
        "   print('ok')\n",
        "else:\n",
        "   print('not ok')"
      ],
      "metadata": {
        "colab": {
          "base_uri": "https://localhost:8080/"
        },
        "id": "2TIEJfUoYwPZ",
        "outputId": "4b843916-fb9d-4e44-85f5-93b9f8c1590d"
      },
      "execution_count": null,
      "outputs": [
        {
          "output_type": "stream",
          "name": "stdout",
          "text": [
            "yeah!\n"
          ]
        }
      ]
    },
    {
      "cell_type": "code",
      "source": [
        "a = ['foo', 'bar', 'baz', 'qux', 'corge']\n",
        "\n",
        "while a:\n",
        "   if len(a) < 3:\n",
        "      break\n",
        "   print(a.pop())\n",
        "print('Done.')"
      ],
      "metadata": {
        "colab": {
          "base_uri": "https://localhost:8080/"
        },
        "id": "VrdzjmLpZE6F",
        "outputId": "b4722ab9-8ef0-4371-bab0-252493c62820"
      },
      "execution_count": null,
      "outputs": [
        {
          "output_type": "stream",
          "name": "stdout",
          "text": [
            "corge\n",
            "qux\n",
            "baz\n",
            "Done.\n"
          ]
        }
      ]
    },
    {
      "cell_type": "code",
      "source": [
        "import random\n",
        "for i in range(3):\n",
        "  print(random.random())"
      ],
      "metadata": {
        "colab": {
          "base_uri": "https://localhost:8080/"
        },
        "id": "3r_Jm3aac8Yq",
        "outputId": "0f01c023-1be7-4b5d-fe8d-dd62bb5dac75"
      },
      "execution_count": null,
      "outputs": [
        {
          "output_type": "stream",
          "name": "stdout",
          "text": [
            "0.07294290529562497\n",
            "0.4177319512846809\n",
            "0.038029809605786835\n"
          ]
        }
      ]
    },
    {
      "cell_type": "code",
      "source": [
        "for i in range(10):\n",
        "  print(random.gauss(0,1))\n"
      ],
      "metadata": {
        "colab": {
          "base_uri": "https://localhost:8080/"
        },
        "id": "ayyJTua1d5p7",
        "outputId": "a4174313-0635-4d9a-d70c-00d704935087"
      },
      "execution_count": null,
      "outputs": [
        {
          "output_type": "stream",
          "name": "stdout",
          "text": [
            "0.45665574843321793\n",
            "-0.3797116634718151\n",
            "-1.0801864688736822\n",
            "0.4197076841223487\n",
            "-1.9599012539404534\n",
            "-0.21877562922523394\n",
            "-0.8737090290179315\n",
            "0.10682146857448109\n",
            "-0.3142194814329577\n",
            "-0.6875706346696666\n"
          ]
        }
      ]
    },
    {
      "cell_type": "code",
      "source": [
        "import random\n",
        "\n",
        "def game_A():\n",
        "    capital = 1000\n",
        "    for _ in range(1000):  # Play 1000 rounds\n",
        "        if random.random() < 0.49:  # Tails with probability 0.49\n",
        "            capital += 1\n",
        "        else:\n",
        "            capital -= 1\n",
        "    return capital\n",
        "\n",
        "def game_B():\n",
        "    capital = 1000\n",
        "    for _ in range(1000):  # Play 1000 rounds\n",
        "        if capital % 3 == 0:  # Multiple of three, flip first coin (tails with probability 0.09)\n",
        "            if random.random() < 0.09:\n",
        "                capital += 1\n",
        "            else:\n",
        "                capital -= 1\n",
        "        else:  # Not multiple of three, flip second coin (tails with probability 0.74)\n",
        "            if random.random() < 0.74:\n",
        "                capital += 1\n",
        "            else:\n",
        "                capital -= 1\n",
        "    return capital\n",
        "\n",
        "def simulate_games():\n",
        "    game_A_results = [game_A() for _ in range(100)]  # Simulate game A 100 times\n",
        "    game_B_results = [game_B() for _ in range(100)]  # Simulate game B 100 times\n",
        "\n",
        "    game_A_avg = sum(game_A_results) / len(game_A_results)\n",
        "    game_B_avg = sum(game_B_results) / len(game_B_results)\n",
        "\n",
        "    return game_A_avg, game_B_avg\n",
        "\n",
        "game_A_avg, game_B_avg = simulate_games()\n",
        "\n",
        "print(\"Average capital for Game A:\", game_A_avg)\n",
        "print(\"Average capital for Game B:\", game_B_avg)\n"
      ],
      "metadata": {
        "colab": {
          "base_uri": "https://localhost:8080/"
        },
        "id": "PMeLIXI8ilcf",
        "outputId": "3bc85109-be93-4d28-e53b-f08886221856"
      },
      "execution_count": null,
      "outputs": [
        {
          "output_type": "stream",
          "name": "stdout",
          "text": [
            "Average capital for Game A: 978.72\n",
            "Average capital for Game B: 981.72\n"
          ]
        }
      ]
    },
    {
      "cell_type": "code",
      "source": [
        "\n",
        "\n",
        "# range(p) produces a sequence of integers from 0 to p-1\n",
        "population = range(1000)\n",
        "\n",
        "# of tickets desired\n",
        "N = 10\n",
        "\n",
        "#random.choices(population, k=N)\n",
        "random.sample(population, N)"
      ],
      "metadata": {
        "colab": {
          "base_uri": "https://localhost:8080/"
        },
        "id": "9KsAoHUhkNoG",
        "outputId": "3d829270-8741-4822-e861-6519ed6e5ff4"
      },
      "execution_count": null,
      "outputs": [
        {
          "output_type": "execute_result",
          "data": {
            "text/plain": [
              "[829, 725, 889, 244, 228, 884, 224, 323, 67, 26]"
            ]
          },
          "metadata": {},
          "execution_count": 34
        }
      ]
    },
    {
      "cell_type": "code",
      "source": [
        "def calculateArea(h,l):\n",
        "  h=int(input('Height: '))\n",
        "  l=int(input('Length: '))\n",
        "  area=1/2*h*l\n",
        "  print(area)\n",
        "\n",
        "areaTriangle=calculateArea(h,l)\n",
        "print(areaTriangle)"
      ],
      "metadata": {
        "id": "x_p_UydWWwDh"
      },
      "execution_count": null,
      "outputs": []
    },
    {
      "cell_type": "code",
      "source": [
        "def area(h,l,shape):\n",
        "     shape=input('Enter Shape Triangle or Rectangle: ')\n",
        "     if shape =='rectangle':\n",
        "       h=int(input('Enter lenght: '))\n",
        "       l=int(input('Enter breadth: '))\n",
        "       area=(h*l)\n",
        "       print(area)\n",
        "     elif shape=='triangle':\n",
        "       h=int(input('Enter height: '))\n",
        "       l=int(input('Enter length: '))\n",
        "       area=(h*l)/2\n",
        "       print(area)\n",
        "     else:\n",
        "      print('Invalid Shape')\n",
        "h=0\n",
        "l=0\n",
        "shape=0\n",
        "calculateArea= area(h, l, shape)\n",
        "\n",
        "\n"
      ],
      "metadata": {
        "colab": {
          "base_uri": "https://localhost:8080/"
        },
        "id": "xap-eEr5Yo_P",
        "outputId": "2a148069-2e0b-42d9-bd9e-c833d3fcb0d9"
      },
      "execution_count": null,
      "outputs": [
        {
          "output_type": "stream",
          "name": "stdout",
          "text": [
            "Enter Shape Triangle or Rectangle: triangle\n",
            "Enter height: 4\n",
            "Enter length: 4\n",
            "8.0\n"
          ]
        }
      ]
    },
    {
      "cell_type": "code",
      "source": [
        "\n",
        "\n",
        "import random\n",
        "\n",
        "basket = [\"Apple\", \"Pear\", \"Banana\", \"Pineapple\", \"Orange\"]\n",
        "result = random.shuffle(basket)\n",
        "print(result)\n",
        "\n",
        "\n",
        "#basket[random.randint(0, 4)]\n",
        "\n",
        "#random.choice(basket)\n",
        "\n",
        "#random.random(basket)\n",
        "\n",
        "#random.shuffle(basket)\n"
      ],
      "metadata": {
        "colab": {
          "base_uri": "https://localhost:8080/"
        },
        "id": "wamb-W4VLi2k",
        "outputId": "4862d426-e7f3-4d29-e0ed-930734136c79"
      },
      "execution_count": null,
      "outputs": [
        {
          "output_type": "stream",
          "name": "stdout",
          "text": [
            "None\n"
          ]
        }
      ]
    },
    {
      "cell_type": "code",
      "source": [
        "import random\n",
        "\n",
        "def play_game_A():\n",
        "    capital = 1000\n",
        "    while capital > 0:\n",
        "        flip = random.random()  # Random number between 0 and 1\n",
        "        if flip < 0.49:  # Probability of getting tails (p = 0.49)\n",
        "            capital += 1\n",
        "        else:\n",
        "            capital -= 1\n",
        "    return capital\n",
        "\n",
        "def play_game_B():\n",
        "    capital = 1000\n",
        "    while capital > 0:\n",
        "        if capital % 3 == 0:  # Flip the first coin\n",
        "            flip = random.random()\n",
        "            if flip < 0.09:  # Probability of getting tails for the first coin (p1 = 0.09)\n",
        "                capital += 1\n",
        "            else:\n",
        "                capital -= 1\n",
        "        else:  # Flip the second coin\n",
        "            flip = random.random()\n",
        "            if flip < 0.74:  # Probability of getting tails for the second coin (p2 = 0.74)\n",
        "                capital += 1\n",
        "            else:\n",
        "                capital -= 1\n",
        "    return capital\n",
        "\n",
        "num_simulations = 1000\n",
        "game_A_results = []\n",
        "game_B_results = []\n",
        "\n",
        "for _ in range(num_simulations):\n",
        "    game_A_results.append(play_game_A())\n",
        "    game_B_results.append(play_game_B())\n",
        "\n",
        "average_capital_A = sum(game_A_results) / num_simulations\n",
        "average_capital_B = sum(game_B_results) / num_simulations\n",
        "\n",
        "if average_capital_A > 1000 and average_capital_B > 1000:\n",
        "    print(\"Both games are winners.\")\n",
        "elif average_capital_A <= 1000 and average_capital_B <= 1000:\n",
        "    print(\"Both games are losers.\")\n",
        "else:\n",
        "    print(\"We cannot determine from the information given.\")\n"
      ],
      "metadata": {
        "colab": {
          "base_uri": "https://localhost:8080/"
        },
        "id": "ZGp2BLlyOvi4",
        "outputId": "5f910764-6bd0-4495-d173-aeb8e7aef7aa"
      },
      "execution_count": null,
      "outputs": [
        {
          "output_type": "stream",
          "name": "stdout",
          "text": [
            "Both games are losers.\n"
          ]
        }
      ]
    },
    {
      "cell_type": "code",
      "source": [
        "import random\n",
        "\n",
        "def play_game_A(capital):\n",
        "    flip = random.random()  # Random number between 0 and 1\n",
        "    if flip < 0.49:  # Probability of getting tails (p = 0.49)\n",
        "        capital += 1\n",
        "    else:\n",
        "        capital -= 1\n",
        "    return capital\n",
        "\n",
        "def play_game_B(capital):\n",
        "    if capital % 3 == 0:  # Flip the first coin\n",
        "        flip = random.random()\n",
        "        if flip < 0.09:  # Probability of getting tails for the first coin (p1 = 0.09)\n",
        "            capital += 1\n",
        "        else:\n",
        "            capital -= 1\n",
        "    else:  # Flip the second coin\n",
        "        flip = random.random()\n",
        "        if flip < 0.74:  # Probability of getting tails for the second coin (p2 = 0.74)\n",
        "            capital += 1\n",
        "        else:\n",
        "            capital -= 1\n",
        "    return capital\n",
        "\n",
        "def play_mixed_game():\n",
        "    capital = 1000\n",
        "    for _ in range(1000000):\n",
        "        flip = random.random()  # Random number between 0 and 1\n",
        "        if flip < 0.5:  # Probability of getting tails (balanced coin)\n",
        "            capital = play_game_A(capital)\n",
        "        else:\n",
        "            capital = play_game_B(capital)\n",
        "    return capital\n",
        "\n",
        "result = play_mixed_game()\n",
        "\n",
        "if result > 1000:\n",
        "    print(\"The game is won.\")\n",
        "elif result < 1000:\n",
        "    print(\"The game is lost.\")\n",
        "else:\n",
        "    print(\"The game may win or lose.\")\n"
      ],
      "metadata": {
        "colab": {
          "base_uri": "https://localhost:8080/"
        },
        "id": "gPTZiXKTPq9P",
        "outputId": "e0bbc074-7531-484d-c9b0-5924f2a41393"
      },
      "execution_count": null,
      "outputs": [
        {
          "output_type": "stream",
          "name": "stdout",
          "text": [
            "The game is won.\n"
          ]
        }
      ]
    },
    {
      "cell_type": "code",
      "source": [
        "population=range(1000)\n",
        "N=10\n",
        "random.choices(population, k=N)"
      ],
      "metadata": {
        "colab": {
          "base_uri": "https://localhost:8080/"
        },
        "id": "WuNfLbHmP3c9",
        "outputId": "1338e77c-576a-449e-fba1-fcf0a5de822f"
      },
      "execution_count": null,
      "outputs": [
        {
          "output_type": "execute_result",
          "data": {
            "text/plain": [
              "[473, 460, 411, 586, 509, 902, 402, 653, 781, 373]"
            ]
          },
          "metadata": {},
          "execution_count": 11
        }
      ]
    },
    {
      "cell_type": "code",
      "source": [
        "# Python program showing\n",
        "# a use of raw_input()\n",
        "\n",
        "g = raw_input(\"Enter your name : \")\n",
        "print g\n"
      ],
      "metadata": {
        "colab": {
          "base_uri": "https://localhost:8080/",
          "height": 130
        },
        "id": "63lpxxRmhDR1",
        "outputId": "0766459a-d498-40eb-a743-795a36c15593"
      },
      "execution_count": null,
      "outputs": [
        {
          "output_type": "error",
          "ename": "SyntaxError",
          "evalue": "ignored",
          "traceback": [
            "\u001b[0;36m  File \u001b[0;32m\"<ipython-input-1-fdf8741334a6>\"\u001b[0;36m, line \u001b[0;32m5\u001b[0m\n\u001b[0;31m    print g\u001b[0m\n\u001b[0m    ^\u001b[0m\n\u001b[0;31mSyntaxError\u001b[0m\u001b[0;31m:\u001b[0m Missing parentheses in call to 'print'. Did you mean print(...)?\n"
          ]
        }
      ]
    },
    {
      "cell_type": "code",
      "source": [
        "# Python program showing how to\n",
        "# multiple input using split\n",
        "\n",
        "# taking two inputs at a time\n",
        "x, y = input(\"Enter two values: \").split()\n",
        "print(\"Number of boys: \", x)\n",
        "print(\"Number of girls: \", y)\n",
        "\n",
        "# taking three inputs at a time\n",
        "x, y, z = input(\"Enter three values: \").split()\n",
        "print(\"Total number of students: \", x)\n",
        "print(\"Number of boys is : \", y)\n",
        "print(\"Number of girls is : \", z)\n",
        "\n",
        "# taking two inputs at a time\n",
        "a, b = input(\"Enter two values: \").split()\n",
        "print(\"First number is {} and second number is {}\".format(a, b))\n",
        "\n",
        "# taking multiple inputs at a time\n",
        "# and type casting using list() function\n",
        "x = list(map(int, input(\"Enter multiple values: \").split()))\n",
        "print(\"List of students: \", x)\n"
      ],
      "metadata": {
        "colab": {
          "base_uri": "https://localhost:8080/"
        },
        "id": "r8p5ddNiifQV",
        "outputId": "d391007a-8f1e-4ecc-fe39-8f640bfc14b5"
      },
      "execution_count": null,
      "outputs": [
        {
          "output_type": "stream",
          "name": "stdout",
          "text": [
            "Enter two values: 51 51\n",
            "Number of boys:  51\n",
            "Number of girls:  51\n",
            "Enter three values: 45 78 2\n",
            "Total number of students:  45\n",
            "Number of boys is :  78\n",
            "Number of girls is :  2\n",
            "Enter two values: 84 48\n",
            "First number is 84 and second number is 48\n",
            "Enter multiple values: 54 45  45 84 752\n",
            "List of students:  [54, 45, 45, 84, 752]\n"
          ]
        }
      ]
    },
    {
      "cell_type": "code",
      "source": [
        "import numpy\n",
        "\n"
      ],
      "metadata": {
        "id": "44IkpKrYwV67"
      },
      "execution_count": null,
      "outputs": []
    }
  ]
}