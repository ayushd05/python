{
  "nbformat": 4,
  "nbformat_minor": 0,
  "metadata": {
    "colab": {
      "provenance": [],
      "authorship_tag": "ABX9TyMhysRTpPSO7Y4yFNRQEV4d",
      "include_colab_link": true
    },
    "kernelspec": {
      "name": "python3",
      "display_name": "Python 3"
    },
    "language_info": {
      "name": "python"
    }
  },
  "cells": [
    {
      "cell_type": "markdown",
      "metadata": {
        "id": "view-in-github",
        "colab_type": "text"
      },
      "source": [
        "<a href=\"https://colab.research.google.com/github/ayushd05/python/blob/main/Root_Finding_Methods_Using_Pyhton.ipynb\" target=\"_parent\"><img src=\"https://colab.research.google.com/assets/colab-badge.svg\" alt=\"Open In Colab\"/></a>"
      ]
    },
    {
      "cell_type": "code",
      "source": [
        "#Bisection Method\n",
        "def func(x):\n",
        "  return x*x*x-4*x-9\n",
        "\n",
        "def bisection(a,b):\n",
        "  if(func(a)*func(b) >= 0):\n",
        "    print(\"You have not assumed right a and b\")\n",
        "    return\n",
        "    c=a\n",
        "\n",
        "  while((b-a) >= 0.01):\n",
        "      c=(a+b)/2\n",
        "\n",
        "      if (func(c)==0):\n",
        "        break\n",
        "\n",
        "      if (func(a)*func(c) <0):\n",
        "        b=c\n",
        "      else:\n",
        "        a=c\n",
        "\n",
        "  print(\"The value of root is : \",\"%.4f\"%c)\n",
        "\n",
        "\n",
        "a=-200\n",
        "b= 300\n",
        "bisection(a,b)\n",
        "\n"
      ],
      "metadata": {
        "colab": {
          "base_uri": "https://localhost:8080/"
        },
        "id": "yIfgsn0txzpB",
        "outputId": "392fe765-e6cc-4a4d-9363-9494a25f5e57"
      },
      "execution_count": 9,
      "outputs": [
        {
          "output_type": "stream",
          "name": "stdout",
          "text": [
            "The value of root is :  2.7054\n"
          ]
        }
      ]
    }
  ]
}