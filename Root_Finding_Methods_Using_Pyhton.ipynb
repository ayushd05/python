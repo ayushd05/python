{
  "nbformat": 4,
  "nbformat_minor": 0,
  "metadata": {
    "colab": {
      "provenance": [],
      "authorship_tag": "ABX9TyMAopVS6K7G5trlGTvjFKAE",
      "include_colab_link": true
    },
    "kernelspec": {
      "name": "python3",
      "display_name": "Python 3"
    },
    "language_info": {
      "name": "python"
    }
  },
  "cells": [
    {
      "cell_type": "markdown",
      "metadata": {
        "id": "view-in-github",
        "colab_type": "text"
      },
      "source": [
        "<a href=\"https://colab.research.google.com/github/ayushd05/python/blob/main/Root_Finding_Methods_Using_Pyhton.ipynb\" target=\"_parent\"><img src=\"https://colab.research.google.com/assets/colab-badge.svg\" alt=\"Open In Colab\"/></a>"
      ]
    },
    {
      "cell_type": "code",
      "source": [
        "#Bisection Method\n",
        "def func(x):\n",
        "  return x*x*x-4*x-9\n",
        "\n",
        "def bisection(a,b):\n",
        "  if(func(a)*func(b) >= 0):\n",
        "    print(\"You have not assumed right a and b\")\n",
        "    return\n",
        "    c=a\n",
        "\n",
        "  while((b-a) >= 0.01):\n",
        "      c=(a+b)/2\n",
        "\n",
        "      if (func(c)==0):\n",
        "        break\n",
        "\n",
        "      if (func(a)*func(c) <0):\n",
        "        b=c\n",
        "      else:\n",
        "        a=c\n",
        "\n",
        "  print(\"The value of root is : \",\"%.4f\"%c)\n",
        "\n",
        "\n",
        "a=-200\n",
        "b= 300\n",
        "bisection(a,b)\n",
        "\n"
      ],
      "metadata": {
        "colab": {
          "base_uri": "https://localhost:8080/"
        },
        "id": "yIfgsn0txzpB",
        "outputId": "392fe765-e6cc-4a4d-9363-9494a25f5e57"
      },
      "execution_count": 9,
      "outputs": [
        {
          "output_type": "stream",
          "name": "stdout",
          "text": [
            "The value of root is :  2.7054\n"
          ]
        }
      ]
    },
    {
      "cell_type": "code",
      "source": [
        "#Newton Raphson Method\n",
        "import math\n",
        "def func(x):\n",
        "  return x*x*x-4*x-9\n",
        "\n",
        "def derifunc(x):\n",
        "  return 3*x*x-4\n",
        "\n",
        "def newtonRaphson(x):\n",
        "  h= func(x)/ derifunc(x)\n",
        "  while abs(h) >= 0.0001:\n",
        "    h= func(x)/ derifunc(x)\n",
        "    x=x-h\n",
        "  print(\"The value of the root is: \",\"%.4f\"%x)\n",
        "\n",
        "x0=200\n",
        "newtonRaphson(x0)\n"
      ],
      "metadata": {
        "colab": {
          "base_uri": "https://localhost:8080/"
        },
        "id": "G4lqHjuk6dQn",
        "outputId": "f7fe8c5f-e3cc-4302-8119-fc8e5aa74b8b"
      },
      "execution_count": 15,
      "outputs": [
        {
          "output_type": "stream",
          "name": "stdout",
          "text": [
            "The value of the root is:  2.7065\n"
          ]
        }
      ]
    }
  ]
}